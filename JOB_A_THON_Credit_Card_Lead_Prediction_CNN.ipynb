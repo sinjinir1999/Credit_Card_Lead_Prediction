{
  "nbformat": 4,
  "nbformat_minor": 0,
  "metadata": {
    "colab": {
      "name": "Analytics_Vidhya_Credit_Card_Lead_Prediction_CNN.ipynb",
      "provenance": []
    },
    "kernelspec": {
      "name": "python3",
      "display_name": "Python 3"
    },
    "language_info": {
      "name": "python"
    },
    "accelerator": "GPU"
  },
  "cells": [
    {
      "cell_type": "markdown",
      "metadata": {
        "id": "es1FiJMPq-Go"
      },
      "source": [
        "**CREDIT CARD LEAD PREDICTION:**\n",
        "Happy Customer Bank is a mid-sized private bank that deals in all kinds of banking products, like Savings accounts, Current accounts, investment products, credit products, among other offerings. The bank also cross-sells products to its existing customers and to do so they use different kinds of communication like tele-calling, e-mails, recommendations on net banking, mobile banking, etc. In this case, the Happy Customer Bank wants to cross sell its credit cards to its existing customers. The bank has identified a set of customers that are eligible for taking these credit cards. Now, the bank is looking for your help in identifying customers that could show higher intent towards a recommended credit card, given:\n",
        "\n",
        "- Customer details (gender, age, region etc.)\n",
        "- Details of his/her relationship with the bank (Channel_Code,Vintage, 'Avg_Asset_Value etc.)\n"
      ]
    },
    {
      "cell_type": "markdown",
      "metadata": {
        "id": "ccF5E1ier6aO"
      },
      "source": [
        "**IMPORT THE LIBRARIES**"
      ]
    },
    {
      "cell_type": "code",
      "metadata": {
        "id": "XT2r0-lMQ5iK"
      },
      "source": [
        "import pandas as pd"
      ],
      "execution_count": null,
      "outputs": []
    },
    {
      "cell_type": "code",
      "metadata": {
        "id": "XAJ-fDobRkvd"
      },
      "source": [
        "train=pd.read_csv('/content/train.csv')"
      ],
      "execution_count": null,
      "outputs": []
    },
    {
      "cell_type": "code",
      "metadata": {
        "colab": {
          "base_uri": "https://localhost:8080/",
          "height": 202
        },
        "id": "lQHZZ_8KR11v",
        "outputId": "c91aaf59-8522-4802-8d99-b8d975998934"
      },
      "source": [
        "train.head()"
      ],
      "execution_count": null,
      "outputs": [
        {
          "output_type": "execute_result",
          "data": {
            "text/html": [
              "<div>\n",
              "<style scoped>\n",
              "    .dataframe tbody tr th:only-of-type {\n",
              "        vertical-align: middle;\n",
              "    }\n",
              "\n",
              "    .dataframe tbody tr th {\n",
              "        vertical-align: top;\n",
              "    }\n",
              "\n",
              "    .dataframe thead th {\n",
              "        text-align: right;\n",
              "    }\n",
              "</style>\n",
              "<table border=\"1\" class=\"dataframe\">\n",
              "  <thead>\n",
              "    <tr style=\"text-align: right;\">\n",
              "      <th></th>\n",
              "      <th>ID</th>\n",
              "      <th>Gender</th>\n",
              "      <th>Age</th>\n",
              "      <th>Region_Code</th>\n",
              "      <th>Occupation</th>\n",
              "      <th>Channel_Code</th>\n",
              "      <th>Vintage</th>\n",
              "      <th>Credit_Product</th>\n",
              "      <th>Avg_Account_Balance</th>\n",
              "      <th>Is_Active</th>\n",
              "      <th>Is_Lead</th>\n",
              "    </tr>\n",
              "  </thead>\n",
              "  <tbody>\n",
              "    <tr>\n",
              "      <th>0</th>\n",
              "      <td>NNVBBKZB</td>\n",
              "      <td>Female</td>\n",
              "      <td>73</td>\n",
              "      <td>RG268</td>\n",
              "      <td>Other</td>\n",
              "      <td>X3</td>\n",
              "      <td>43</td>\n",
              "      <td>No</td>\n",
              "      <td>1045696</td>\n",
              "      <td>No</td>\n",
              "      <td>0</td>\n",
              "    </tr>\n",
              "    <tr>\n",
              "      <th>1</th>\n",
              "      <td>IDD62UNG</td>\n",
              "      <td>Female</td>\n",
              "      <td>30</td>\n",
              "      <td>RG277</td>\n",
              "      <td>Salaried</td>\n",
              "      <td>X1</td>\n",
              "      <td>32</td>\n",
              "      <td>No</td>\n",
              "      <td>581988</td>\n",
              "      <td>No</td>\n",
              "      <td>0</td>\n",
              "    </tr>\n",
              "    <tr>\n",
              "      <th>2</th>\n",
              "      <td>HD3DSEMC</td>\n",
              "      <td>Female</td>\n",
              "      <td>56</td>\n",
              "      <td>RG268</td>\n",
              "      <td>Self_Employed</td>\n",
              "      <td>X3</td>\n",
              "      <td>26</td>\n",
              "      <td>No</td>\n",
              "      <td>1484315</td>\n",
              "      <td>Yes</td>\n",
              "      <td>0</td>\n",
              "    </tr>\n",
              "    <tr>\n",
              "      <th>3</th>\n",
              "      <td>BF3NC7KV</td>\n",
              "      <td>Male</td>\n",
              "      <td>34</td>\n",
              "      <td>RG270</td>\n",
              "      <td>Salaried</td>\n",
              "      <td>X1</td>\n",
              "      <td>19</td>\n",
              "      <td>No</td>\n",
              "      <td>470454</td>\n",
              "      <td>No</td>\n",
              "      <td>0</td>\n",
              "    </tr>\n",
              "    <tr>\n",
              "      <th>4</th>\n",
              "      <td>TEASRWXV</td>\n",
              "      <td>Female</td>\n",
              "      <td>30</td>\n",
              "      <td>RG282</td>\n",
              "      <td>Salaried</td>\n",
              "      <td>X1</td>\n",
              "      <td>33</td>\n",
              "      <td>No</td>\n",
              "      <td>886787</td>\n",
              "      <td>No</td>\n",
              "      <td>0</td>\n",
              "    </tr>\n",
              "  </tbody>\n",
              "</table>\n",
              "</div>"
            ],
            "text/plain": [
              "         ID  Gender  Age  ... Avg_Account_Balance Is_Active Is_Lead\n",
              "0  NNVBBKZB  Female   73  ...             1045696        No       0\n",
              "1  IDD62UNG  Female   30  ...              581988        No       0\n",
              "2  HD3DSEMC  Female   56  ...             1484315       Yes       0\n",
              "3  BF3NC7KV    Male   34  ...              470454        No       0\n",
              "4  TEASRWXV  Female   30  ...              886787        No       0\n",
              "\n",
              "[5 rows x 11 columns]"
            ]
          },
          "metadata": {
            "tags": []
          },
          "execution_count": 3
        }
      ]
    },
    {
      "cell_type": "code",
      "metadata": {
        "colab": {
          "base_uri": "https://localhost:8080/"
        },
        "id": "eHdWcuFxW2ym",
        "outputId": "b65f074e-8ff7-416e-bac1-442c9df64ff3"
      },
      "source": [
        "train.shape"
      ],
      "execution_count": null,
      "outputs": [
        {
          "output_type": "execute_result",
          "data": {
            "text/plain": [
              "(245725, 11)"
            ]
          },
          "metadata": {
            "tags": []
          },
          "execution_count": 4
        }
      ]
    },
    {
      "cell_type": "code",
      "metadata": {
        "colab": {
          "base_uri": "https://localhost:8080/"
        },
        "id": "3OB8sK20R3qG",
        "outputId": "1c84e60e-4003-41e0-b2b5-75f4ac45e5e1"
      },
      "source": [
        "train.isnull().sum()"
      ],
      "execution_count": null,
      "outputs": [
        {
          "output_type": "execute_result",
          "data": {
            "text/plain": [
              "ID                         0\n",
              "Gender                     0\n",
              "Age                        0\n",
              "Region_Code                0\n",
              "Occupation                 0\n",
              "Channel_Code               0\n",
              "Vintage                    0\n",
              "Credit_Product         29325\n",
              "Avg_Account_Balance        0\n",
              "Is_Active                  0\n",
              "Is_Lead                    0\n",
              "dtype: int64"
            ]
          },
          "metadata": {
            "tags": []
          },
          "execution_count": 5
        }
      ]
    },
    {
      "cell_type": "code",
      "metadata": {
        "colab": {
          "base_uri": "https://localhost:8080/"
        },
        "id": "xNFPR7AIR7bE",
        "outputId": "fd0012a4-2be5-4a66-9f69-c852d043af6b"
      },
      "source": [
        "train.info()"
      ],
      "execution_count": null,
      "outputs": [
        {
          "output_type": "stream",
          "text": [
            "<class 'pandas.core.frame.DataFrame'>\n",
            "RangeIndex: 245725 entries, 0 to 245724\n",
            "Data columns (total 11 columns):\n",
            " #   Column               Non-Null Count   Dtype \n",
            "---  ------               --------------   ----- \n",
            " 0   ID                   245725 non-null  object\n",
            " 1   Gender               245725 non-null  object\n",
            " 2   Age                  245725 non-null  int64 \n",
            " 3   Region_Code          245725 non-null  object\n",
            " 4   Occupation           245725 non-null  object\n",
            " 5   Channel_Code         245725 non-null  object\n",
            " 6   Vintage              245725 non-null  int64 \n",
            " 7   Credit_Product       216400 non-null  object\n",
            " 8   Avg_Account_Balance  245725 non-null  int64 \n",
            " 9   Is_Active            245725 non-null  object\n",
            " 10  Is_Lead              245725 non-null  int64 \n",
            "dtypes: int64(4), object(7)\n",
            "memory usage: 20.6+ MB\n"
          ],
          "name": "stdout"
        }
      ]
    },
    {
      "cell_type": "code",
      "metadata": {
        "colab": {
          "base_uri": "https://localhost:8080/"
        },
        "id": "oEO5QcmNSgxl",
        "outputId": "78244246-5acc-497d-c99e-019d493aafde"
      },
      "source": [
        "train['Credit_Product'].unique()"
      ],
      "execution_count": null,
      "outputs": [
        {
          "output_type": "execute_result",
          "data": {
            "text/plain": [
              "array(['No', nan, 'Yes'], dtype=object)"
            ]
          },
          "metadata": {
            "tags": []
          },
          "execution_count": 7
        }
      ]
    },
    {
      "cell_type": "code",
      "metadata": {
        "colab": {
          "base_uri": "https://localhost:8080/"
        },
        "id": "_ptGzQZbTnzt",
        "outputId": "5d2866e5-5e40-4380-a81b-8535ac2273ed"
      },
      "source": [
        "train.columns"
      ],
      "execution_count": null,
      "outputs": [
        {
          "output_type": "execute_result",
          "data": {
            "text/plain": [
              "Index(['ID', 'Gender', 'Age', 'Region_Code', 'Occupation', 'Channel_Code',\n",
              "       'Vintage', 'Credit_Product', 'Avg_Account_Balance', 'Is_Active',\n",
              "       'Is_Lead'],\n",
              "      dtype='object')"
            ]
          },
          "metadata": {
            "tags": []
          },
          "execution_count": 8
        }
      ]
    },
    {
      "cell_type": "code",
      "metadata": {
        "id": "wUAdLW5kYUn2"
      },
      "source": [
        "train.drop('ID',axis=1,inplace=True)"
      ],
      "execution_count": null,
      "outputs": []
    },
    {
      "cell_type": "markdown",
      "metadata": {
        "id": "NGPpiWe6sFaD"
      },
      "source": [
        "**DATA PREPROCESSING**"
      ]
    },
    {
      "cell_type": "code",
      "metadata": {
        "id": "kKo_RpU-TaYV"
      },
      "source": [
        "categorical_var=['Gender', 'Region_Code', 'Occupation', 'Channel_Code','Credit_Product', 'Is_Active']"
      ],
      "execution_count": null,
      "outputs": []
    },
    {
      "cell_type": "code",
      "metadata": {
        "id": "X2qIt39qUCBN"
      },
      "source": [
        "for c in categorical_var :\n",
        "  train[c] = pd.get_dummies(train[c])\n"
      ],
      "execution_count": null,
      "outputs": []
    },
    {
      "cell_type": "code",
      "metadata": {
        "colab": {
          "base_uri": "https://localhost:8080/",
          "height": 414
        },
        "id": "iFK8gT7-UTjd",
        "outputId": "c0927b67-49c2-45e6-f75a-2dbf22641459"
      },
      "source": [
        "train"
      ],
      "execution_count": null,
      "outputs": [
        {
          "output_type": "execute_result",
          "data": {
            "text/html": [
              "<div>\n",
              "<style scoped>\n",
              "    .dataframe tbody tr th:only-of-type {\n",
              "        vertical-align: middle;\n",
              "    }\n",
              "\n",
              "    .dataframe tbody tr th {\n",
              "        vertical-align: top;\n",
              "    }\n",
              "\n",
              "    .dataframe thead th {\n",
              "        text-align: right;\n",
              "    }\n",
              "</style>\n",
              "<table border=\"1\" class=\"dataframe\">\n",
              "  <thead>\n",
              "    <tr style=\"text-align: right;\">\n",
              "      <th></th>\n",
              "      <th>Gender</th>\n",
              "      <th>Age</th>\n",
              "      <th>Region_Code</th>\n",
              "      <th>Occupation</th>\n",
              "      <th>Channel_Code</th>\n",
              "      <th>Vintage</th>\n",
              "      <th>Credit_Product</th>\n",
              "      <th>Avg_Account_Balance</th>\n",
              "      <th>Is_Active</th>\n",
              "      <th>Is_Lead</th>\n",
              "    </tr>\n",
              "  </thead>\n",
              "  <tbody>\n",
              "    <tr>\n",
              "      <th>0</th>\n",
              "      <td>1</td>\n",
              "      <td>73</td>\n",
              "      <td>0</td>\n",
              "      <td>0</td>\n",
              "      <td>0</td>\n",
              "      <td>43</td>\n",
              "      <td>1</td>\n",
              "      <td>1045696</td>\n",
              "      <td>1</td>\n",
              "      <td>0</td>\n",
              "    </tr>\n",
              "    <tr>\n",
              "      <th>1</th>\n",
              "      <td>1</td>\n",
              "      <td>30</td>\n",
              "      <td>0</td>\n",
              "      <td>0</td>\n",
              "      <td>1</td>\n",
              "      <td>32</td>\n",
              "      <td>1</td>\n",
              "      <td>581988</td>\n",
              "      <td>1</td>\n",
              "      <td>0</td>\n",
              "    </tr>\n",
              "    <tr>\n",
              "      <th>2</th>\n",
              "      <td>1</td>\n",
              "      <td>56</td>\n",
              "      <td>0</td>\n",
              "      <td>0</td>\n",
              "      <td>0</td>\n",
              "      <td>26</td>\n",
              "      <td>1</td>\n",
              "      <td>1484315</td>\n",
              "      <td>0</td>\n",
              "      <td>0</td>\n",
              "    </tr>\n",
              "    <tr>\n",
              "      <th>3</th>\n",
              "      <td>0</td>\n",
              "      <td>34</td>\n",
              "      <td>0</td>\n",
              "      <td>0</td>\n",
              "      <td>1</td>\n",
              "      <td>19</td>\n",
              "      <td>1</td>\n",
              "      <td>470454</td>\n",
              "      <td>1</td>\n",
              "      <td>0</td>\n",
              "    </tr>\n",
              "    <tr>\n",
              "      <th>4</th>\n",
              "      <td>1</td>\n",
              "      <td>30</td>\n",
              "      <td>0</td>\n",
              "      <td>0</td>\n",
              "      <td>1</td>\n",
              "      <td>33</td>\n",
              "      <td>1</td>\n",
              "      <td>886787</td>\n",
              "      <td>1</td>\n",
              "      <td>0</td>\n",
              "    </tr>\n",
              "    <tr>\n",
              "      <th>...</th>\n",
              "      <td>...</td>\n",
              "      <td>...</td>\n",
              "      <td>...</td>\n",
              "      <td>...</td>\n",
              "      <td>...</td>\n",
              "      <td>...</td>\n",
              "      <td>...</td>\n",
              "      <td>...</td>\n",
              "      <td>...</td>\n",
              "      <td>...</td>\n",
              "    </tr>\n",
              "    <tr>\n",
              "      <th>245720</th>\n",
              "      <td>0</td>\n",
              "      <td>51</td>\n",
              "      <td>0</td>\n",
              "      <td>0</td>\n",
              "      <td>0</td>\n",
              "      <td>109</td>\n",
              "      <td>0</td>\n",
              "      <td>1925586</td>\n",
              "      <td>1</td>\n",
              "      <td>0</td>\n",
              "    </tr>\n",
              "    <tr>\n",
              "      <th>245721</th>\n",
              "      <td>0</td>\n",
              "      <td>27</td>\n",
              "      <td>0</td>\n",
              "      <td>0</td>\n",
              "      <td>1</td>\n",
              "      <td>15</td>\n",
              "      <td>1</td>\n",
              "      <td>862952</td>\n",
              "      <td>0</td>\n",
              "      <td>0</td>\n",
              "    </tr>\n",
              "    <tr>\n",
              "      <th>245722</th>\n",
              "      <td>1</td>\n",
              "      <td>26</td>\n",
              "      <td>0</td>\n",
              "      <td>0</td>\n",
              "      <td>1</td>\n",
              "      <td>13</td>\n",
              "      <td>1</td>\n",
              "      <td>670659</td>\n",
              "      <td>1</td>\n",
              "      <td>0</td>\n",
              "    </tr>\n",
              "    <tr>\n",
              "      <th>245723</th>\n",
              "      <td>1</td>\n",
              "      <td>28</td>\n",
              "      <td>0</td>\n",
              "      <td>0</td>\n",
              "      <td>1</td>\n",
              "      <td>31</td>\n",
              "      <td>1</td>\n",
              "      <td>407504</td>\n",
              "      <td>1</td>\n",
              "      <td>0</td>\n",
              "    </tr>\n",
              "    <tr>\n",
              "      <th>245724</th>\n",
              "      <td>0</td>\n",
              "      <td>29</td>\n",
              "      <td>0</td>\n",
              "      <td>0</td>\n",
              "      <td>1</td>\n",
              "      <td>21</td>\n",
              "      <td>1</td>\n",
              "      <td>1129276</td>\n",
              "      <td>1</td>\n",
              "      <td>0</td>\n",
              "    </tr>\n",
              "  </tbody>\n",
              "</table>\n",
              "<p>245725 rows × 10 columns</p>\n",
              "</div>"
            ],
            "text/plain": [
              "        Gender  Age  Region_Code  ...  Avg_Account_Balance  Is_Active  Is_Lead\n",
              "0            1   73            0  ...              1045696          1        0\n",
              "1            1   30            0  ...               581988          1        0\n",
              "2            1   56            0  ...              1484315          0        0\n",
              "3            0   34            0  ...               470454          1        0\n",
              "4            1   30            0  ...               886787          1        0\n",
              "...        ...  ...          ...  ...                  ...        ...      ...\n",
              "245720       0   51            0  ...              1925586          1        0\n",
              "245721       0   27            0  ...               862952          0        0\n",
              "245722       1   26            0  ...               670659          1        0\n",
              "245723       1   28            0  ...               407504          1        0\n",
              "245724       0   29            0  ...              1129276          1        0\n",
              "\n",
              "[245725 rows x 10 columns]"
            ]
          },
          "metadata": {
            "tags": []
          },
          "execution_count": 12
        }
      ]
    },
    {
      "cell_type": "code",
      "metadata": {
        "id": "sUEy5i8DUg09"
      },
      "source": [
        " train['Credit_Product'].fillna((train['Credit_Product'].mean()),inplace=True)"
      ],
      "execution_count": null,
      "outputs": []
    },
    {
      "cell_type": "code",
      "metadata": {
        "colab": {
          "base_uri": "https://localhost:8080/"
        },
        "id": "1fbeJIS_Uqum",
        "outputId": "f72c659d-d8fe-4890-ae14-56368dbe8ac9"
      },
      "source": [
        "train['Credit_Product'].values"
      ],
      "execution_count": null,
      "outputs": [
        {
          "output_type": "execute_result",
          "data": {
            "text/plain": [
              "array([1, 1, 1, ..., 1, 1, 1], dtype=uint8)"
            ]
          },
          "metadata": {
            "tags": []
          },
          "execution_count": 14
        }
      ]
    },
    {
      "cell_type": "code",
      "metadata": {
        "colab": {
          "base_uri": "https://localhost:8080/"
        },
        "id": "XEdsua_oVU78",
        "outputId": "f2203d22-98cc-4628-a83f-b1aa5010a7bf"
      },
      "source": [
        "train.isnull().sum()"
      ],
      "execution_count": null,
      "outputs": [
        {
          "output_type": "execute_result",
          "data": {
            "text/plain": [
              "Gender                 0\n",
              "Age                    0\n",
              "Region_Code            0\n",
              "Occupation             0\n",
              "Channel_Code           0\n",
              "Vintage                0\n",
              "Credit_Product         0\n",
              "Avg_Account_Balance    0\n",
              "Is_Active              0\n",
              "Is_Lead                0\n",
              "dtype: int64"
            ]
          },
          "metadata": {
            "tags": []
          },
          "execution_count": 15
        }
      ]
    },
    {
      "cell_type": "code",
      "metadata": {
        "colab": {
          "base_uri": "https://localhost:8080/"
        },
        "id": "fYUeOz4-qp41",
        "outputId": "ae32633f-92a1-431d-9000-88422a58ab2c"
      },
      "source": [
        "train['Is_Lead'].value_counts()"
      ],
      "execution_count": null,
      "outputs": [
        {
          "output_type": "execute_result",
          "data": {
            "text/plain": [
              "0    187437\n",
              "1     58288\n",
              "Name: Is_Lead, dtype: int64"
            ]
          },
          "metadata": {
            "tags": []
          },
          "execution_count": 16
        }
      ]
    },
    {
      "cell_type": "code",
      "metadata": {
        "colab": {
          "base_uri": "https://localhost:8080/",
          "height": 202
        },
        "id": "zKC8fuxLq2NN",
        "outputId": "0d4a5e2d-4f5b-4c98-905d-675dc9d5f0a4"
      },
      "source": [
        "train.head()"
      ],
      "execution_count": null,
      "outputs": [
        {
          "output_type": "execute_result",
          "data": {
            "text/html": [
              "<div>\n",
              "<style scoped>\n",
              "    .dataframe tbody tr th:only-of-type {\n",
              "        vertical-align: middle;\n",
              "    }\n",
              "\n",
              "    .dataframe tbody tr th {\n",
              "        vertical-align: top;\n",
              "    }\n",
              "\n",
              "    .dataframe thead th {\n",
              "        text-align: right;\n",
              "    }\n",
              "</style>\n",
              "<table border=\"1\" class=\"dataframe\">\n",
              "  <thead>\n",
              "    <tr style=\"text-align: right;\">\n",
              "      <th></th>\n",
              "      <th>Gender</th>\n",
              "      <th>Age</th>\n",
              "      <th>Region_Code</th>\n",
              "      <th>Occupation</th>\n",
              "      <th>Channel_Code</th>\n",
              "      <th>Vintage</th>\n",
              "      <th>Credit_Product</th>\n",
              "      <th>Avg_Account_Balance</th>\n",
              "      <th>Is_Active</th>\n",
              "      <th>Is_Lead</th>\n",
              "    </tr>\n",
              "  </thead>\n",
              "  <tbody>\n",
              "    <tr>\n",
              "      <th>0</th>\n",
              "      <td>1</td>\n",
              "      <td>73</td>\n",
              "      <td>0</td>\n",
              "      <td>0</td>\n",
              "      <td>0</td>\n",
              "      <td>43</td>\n",
              "      <td>1</td>\n",
              "      <td>1045696</td>\n",
              "      <td>1</td>\n",
              "      <td>0</td>\n",
              "    </tr>\n",
              "    <tr>\n",
              "      <th>1</th>\n",
              "      <td>1</td>\n",
              "      <td>30</td>\n",
              "      <td>0</td>\n",
              "      <td>0</td>\n",
              "      <td>1</td>\n",
              "      <td>32</td>\n",
              "      <td>1</td>\n",
              "      <td>581988</td>\n",
              "      <td>1</td>\n",
              "      <td>0</td>\n",
              "    </tr>\n",
              "    <tr>\n",
              "      <th>2</th>\n",
              "      <td>1</td>\n",
              "      <td>56</td>\n",
              "      <td>0</td>\n",
              "      <td>0</td>\n",
              "      <td>0</td>\n",
              "      <td>26</td>\n",
              "      <td>1</td>\n",
              "      <td>1484315</td>\n",
              "      <td>0</td>\n",
              "      <td>0</td>\n",
              "    </tr>\n",
              "    <tr>\n",
              "      <th>3</th>\n",
              "      <td>0</td>\n",
              "      <td>34</td>\n",
              "      <td>0</td>\n",
              "      <td>0</td>\n",
              "      <td>1</td>\n",
              "      <td>19</td>\n",
              "      <td>1</td>\n",
              "      <td>470454</td>\n",
              "      <td>1</td>\n",
              "      <td>0</td>\n",
              "    </tr>\n",
              "    <tr>\n",
              "      <th>4</th>\n",
              "      <td>1</td>\n",
              "      <td>30</td>\n",
              "      <td>0</td>\n",
              "      <td>0</td>\n",
              "      <td>1</td>\n",
              "      <td>33</td>\n",
              "      <td>1</td>\n",
              "      <td>886787</td>\n",
              "      <td>1</td>\n",
              "      <td>0</td>\n",
              "    </tr>\n",
              "  </tbody>\n",
              "</table>\n",
              "</div>"
            ],
            "text/plain": [
              "   Gender  Age  Region_Code  ...  Avg_Account_Balance  Is_Active  Is_Lead\n",
              "0       1   73            0  ...              1045696          1        0\n",
              "1       1   30            0  ...               581988          1        0\n",
              "2       1   56            0  ...              1484315          0        0\n",
              "3       0   34            0  ...               470454          1        0\n",
              "4       1   30            0  ...               886787          1        0\n",
              "\n",
              "[5 rows x 10 columns]"
            ]
          },
          "metadata": {
            "tags": []
          },
          "execution_count": 17
        }
      ]
    },
    {
      "cell_type": "code",
      "metadata": {
        "id": "AbQuWK0_WKku"
      },
      "source": [
        "y=train['Is_Lead']"
      ],
      "execution_count": null,
      "outputs": []
    },
    {
      "cell_type": "code",
      "metadata": {
        "id": "6VnBgh6bWVnG"
      },
      "source": [
        "train.drop('Is_Lead',axis=1,inplace=True)"
      ],
      "execution_count": null,
      "outputs": []
    },
    {
      "cell_type": "code",
      "metadata": {
        "id": "b5GA2huV-ZMS"
      },
      "source": [
        "train=train.to_numpy()"
      ],
      "execution_count": null,
      "outputs": []
    },
    {
      "cell_type": "code",
      "metadata": {
        "id": "jQwg6v1T-fYn"
      },
      "source": [
        "y=y.to_numpy()"
      ],
      "execution_count": null,
      "outputs": []
    },
    {
      "cell_type": "code",
      "metadata": {
        "id": "QYunMPt1WjB2"
      },
      "source": [
        "from sklearn.model_selection import train_test_split\n",
        "X_train,X_test,Y_train,Y_test=(train_test_split(train,y,test_size=0.30))"
      ],
      "execution_count": null,
      "outputs": []
    },
    {
      "cell_type": "code",
      "metadata": {
        "id": "Sr4RRD8X-YNO"
      },
      "source": [
        "X_train=X_train.reshape(X_train.shape[0],X_train.shape[1],1)\n",
        "X_test=X_test.reshape(X_test.shape[0],X_test.shape[1],1)"
      ],
      "execution_count": null,
      "outputs": []
    },
    {
      "cell_type": "code",
      "metadata": {
        "colab": {
          "base_uri": "https://localhost:8080/"
        },
        "id": "bEvskncBt5hr",
        "outputId": "4b5c0e4e-f73f-4d1c-bbca-0506526e57ba"
      },
      "source": [
        "X_train.shape"
      ],
      "execution_count": null,
      "outputs": [
        {
          "output_type": "execute_result",
          "data": {
            "text/plain": [
              "(172007, 9, 1)"
            ]
          },
          "metadata": {
            "tags": []
          },
          "execution_count": 24
        }
      ]
    },
    {
      "cell_type": "markdown",
      "metadata": {
        "id": "8DwEB_0lsQaV"
      },
      "source": [
        "**CONVOLUTION NEURAL NETWORK MODEL**"
      ]
    },
    {
      "cell_type": "code",
      "metadata": {
        "id": "hyOHiwRGuPIS"
      },
      "source": [
        "import tensorflow as tf\n",
        "from tensorflow import keras\n",
        "from tensorflow.keras import Sequential\n",
        "from tensorflow.keras.layers import Flatten,Dense,Dropout,BatchNormalization\n",
        "from tensorflow.keras.layers import Conv1D\n",
        "from tensorflow.keras.optimizers import Adam"
      ],
      "execution_count": null,
      "outputs": []
    },
    {
      "cell_type": "code",
      "metadata": {
        "id": "OZguHj9Ou6d-"
      },
      "source": [
        "model=Sequential()\n",
        "model.add(Conv1D(32,2,activation='relu',input_shape=X_train[0].shape))\n",
        "model.add(BatchNormalization())\n",
        "model.add(Dropout(0.2))\n",
        "\n",
        "model.add(Conv1D(64,2,activation='relu'))\n",
        "model.add(BatchNormalization())\n",
        "model.add(Dropout(0.5))\n",
        "\n",
        "model.add(Flatten())\n",
        "model.add(Dense(64,activation='relu'))\n",
        "model.add(Dropout(0.5))\n",
        "model.add(Dense(1,activation='sigmoid'))\n"
      ],
      "execution_count": null,
      "outputs": []
    },
    {
      "cell_type": "code",
      "metadata": {
        "colab": {
          "base_uri": "https://localhost:8080/"
        },
        "id": "F4aW9npOwNaR",
        "outputId": "d970f989-012a-438f-b9f0-853e2638c54a"
      },
      "source": [
        "model.summary()"
      ],
      "execution_count": null,
      "outputs": [
        {
          "output_type": "stream",
          "text": [
            "Model: \"sequential\"\n",
            "_________________________________________________________________\n",
            "Layer (type)                 Output Shape              Param #   \n",
            "=================================================================\n",
            "conv1d (Conv1D)              (None, 8, 32)             96        \n",
            "_________________________________________________________________\n",
            "batch_normalization (BatchNo (None, 8, 32)             128       \n",
            "_________________________________________________________________\n",
            "dropout (Dropout)            (None, 8, 32)             0         \n",
            "_________________________________________________________________\n",
            "conv1d_1 (Conv1D)            (None, 7, 64)             4160      \n",
            "_________________________________________________________________\n",
            "batch_normalization_1 (Batch (None, 7, 64)             256       \n",
            "_________________________________________________________________\n",
            "dropout_1 (Dropout)          (None, 7, 64)             0         \n",
            "_________________________________________________________________\n",
            "flatten (Flatten)            (None, 448)               0         \n",
            "_________________________________________________________________\n",
            "dense (Dense)                (None, 64)                28736     \n",
            "_________________________________________________________________\n",
            "dropout_2 (Dropout)          (None, 64)                0         \n",
            "_________________________________________________________________\n",
            "dense_1 (Dense)              (None, 1)                 65        \n",
            "=================================================================\n",
            "Total params: 33,441\n",
            "Trainable params: 33,249\n",
            "Non-trainable params: 192\n",
            "_________________________________________________________________\n"
          ],
          "name": "stdout"
        }
      ]
    },
    {
      "cell_type": "code",
      "metadata": {
        "id": "dTCQCUJ_wSDW"
      },
      "source": [
        "model.compile(optimizer='adam',loss='binary_crossentropy',metrics=[tf.keras.metrics.AUC(),\"accuracy\"])"
      ],
      "execution_count": null,
      "outputs": []
    },
    {
      "cell_type": "code",
      "metadata": {
        "colab": {
          "base_uri": "https://localhost:8080/"
        },
        "id": "mV9BRYP6wzC5",
        "outputId": "d716cd85-2b17-4aba-c4a5-0ad57ebe49af"
      },
      "source": [
        "res=model.fit(X_train,Y_train,epochs=50,validation_data=(X_test,Y_test),verbose=1)"
      ],
      "execution_count": null,
      "outputs": [
        {
          "output_type": "stream",
          "text": [
            "Epoch 1/50\n",
            "5376/5376 [==============================] - 62s 6ms/step - loss: 0.5293 - auc: 0.6373 - accuracy: 0.7614 - val_loss: 0.5073 - val_auc: 0.6737 - val_accuracy: 0.7625\n",
            "Epoch 2/50\n",
            "5376/5376 [==============================] - 30s 6ms/step - loss: 0.5178 - auc: 0.6573 - accuracy: 0.7629 - val_loss: 0.5039 - val_auc: 0.6640 - val_accuracy: 0.7625\n",
            "Epoch 3/50\n",
            "5376/5376 [==============================] - 30s 6ms/step - loss: 0.5172 - auc: 0.6597 - accuracy: 0.7629 - val_loss: 0.5041 - val_auc: 0.6720 - val_accuracy: 0.7625\n",
            "Epoch 4/50\n",
            "5376/5376 [==============================] - 30s 6ms/step - loss: 0.5157 - auc: 0.6609 - accuracy: 0.7630 - val_loss: 0.5038 - val_auc: 0.6749 - val_accuracy: 0.7625\n",
            "Epoch 5/50\n",
            "5376/5376 [==============================] - 30s 6ms/step - loss: 0.5150 - auc: 0.6636 - accuracy: 0.7638 - val_loss: 0.4995 - val_auc: 0.6807 - val_accuracy: 0.7625\n",
            "Epoch 6/50\n",
            "5376/5376 [==============================] - 30s 6ms/step - loss: 0.5124 - auc: 0.6687 - accuracy: 0.7648 - val_loss: 0.4988 - val_auc: 0.6789 - val_accuracy: 0.7656\n",
            "Epoch 7/50\n",
            "5376/5376 [==============================] - 30s 6ms/step - loss: 0.5420 - auc: 0.5622 - accuracy: 0.7632 - val_loss: 0.5459 - val_auc: 0.5522 - val_accuracy: 0.7625\n",
            "Epoch 8/50\n",
            "5376/5376 [==============================] - 30s 6ms/step - loss: 0.5118 - auc: 0.6763 - accuracy: 0.7629 - val_loss: 0.4317 - val_auc: 0.8028 - val_accuracy: 0.7647\n",
            "Epoch 9/50\n",
            "5376/5376 [==============================] - 30s 6ms/step - loss: 0.4514 - auc: 0.7858 - accuracy: 0.7750 - val_loss: 0.4228 - val_auc: 0.8188 - val_accuracy: 0.7911\n",
            "Epoch 10/50\n",
            "5376/5376 [==============================] - 30s 6ms/step - loss: 0.4460 - auc: 0.7923 - accuracy: 0.7811 - val_loss: 0.4205 - val_auc: 0.8194 - val_accuracy: 0.8031\n",
            "Epoch 11/50\n",
            "5376/5376 [==============================] - 30s 6ms/step - loss: 0.4455 - auc: 0.7932 - accuracy: 0.7846 - val_loss: 0.4196 - val_auc: 0.8214 - val_accuracy: 0.7976\n",
            "Epoch 12/50\n",
            "5376/5376 [==============================] - 30s 6ms/step - loss: 0.4448 - auc: 0.7941 - accuracy: 0.7857 - val_loss: 0.4278 - val_auc: 0.8209 - val_accuracy: 0.8007\n",
            "Epoch 13/50\n",
            "5376/5376 [==============================] - 30s 6ms/step - loss: 0.4421 - auc: 0.7976 - accuracy: 0.7855 - val_loss: 0.4234 - val_auc: 0.8206 - val_accuracy: 0.7936\n",
            "Epoch 14/50\n",
            "5376/5376 [==============================] - 30s 6ms/step - loss: 0.4405 - auc: 0.7990 - accuracy: 0.7879 - val_loss: 0.4248 - val_auc: 0.8211 - val_accuracy: 0.7944\n",
            "Epoch 15/50\n",
            "5376/5376 [==============================] - 30s 5ms/step - loss: 0.4443 - auc: 0.7947 - accuracy: 0.7870 - val_loss: 0.4392 - val_auc: 0.8063 - val_accuracy: 0.7823\n",
            "Epoch 16/50\n",
            "5376/5376 [==============================] - 30s 6ms/step - loss: 0.4423 - auc: 0.7971 - accuracy: 0.7887 - val_loss: 0.4397 - val_auc: 0.8200 - val_accuracy: 0.7932\n",
            "Epoch 17/50\n",
            "5376/5376 [==============================] - 30s 6ms/step - loss: 0.4425 - auc: 0.7966 - accuracy: 0.7888 - val_loss: 0.4294 - val_auc: 0.8164 - val_accuracy: 0.7914\n",
            "Epoch 18/50\n",
            "5376/5376 [==============================] - 30s 6ms/step - loss: 0.4430 - auc: 0.7960 - accuracy: 0.7879 - val_loss: 0.4228 - val_auc: 0.8218 - val_accuracy: 0.7948\n",
            "Epoch 19/50\n",
            "5376/5376 [==============================] - 30s 6ms/step - loss: 0.4421 - auc: 0.7972 - accuracy: 0.7888 - val_loss: 0.4252 - val_auc: 0.8221 - val_accuracy: 0.7980\n",
            "Epoch 20/50\n",
            "5376/5376 [==============================] - 30s 6ms/step - loss: 0.4394 - auc: 0.8000 - accuracy: 0.7889 - val_loss: 0.4210 - val_auc: 0.8220 - val_accuracy: 0.7969\n",
            "Epoch 21/50\n",
            "5376/5376 [==============================] - 30s 6ms/step - loss: 0.4298 - auc: 0.8085 - accuracy: 0.7916 - val_loss: 0.4208 - val_auc: 0.8217 - val_accuracy: 0.8036\n",
            "Epoch 22/50\n",
            "5376/5376 [==============================] - 30s 6ms/step - loss: 0.4290 - auc: 0.8092 - accuracy: 0.7919 - val_loss: 0.4248 - val_auc: 0.8197 - val_accuracy: 0.7945\n",
            "Epoch 23/50\n",
            "5376/5376 [==============================] - 30s 6ms/step - loss: 0.4293 - auc: 0.8089 - accuracy: 0.7922 - val_loss: 0.4201 - val_auc: 0.8224 - val_accuracy: 0.8029\n",
            "Epoch 24/50\n",
            "5376/5376 [==============================] - 30s 6ms/step - loss: 0.4288 - auc: 0.8096 - accuracy: 0.7930 - val_loss: 0.4278 - val_auc: 0.8202 - val_accuracy: 0.7950\n",
            "Epoch 25/50\n",
            "5376/5376 [==============================] - 30s 6ms/step - loss: 0.4283 - auc: 0.8101 - accuracy: 0.7924 - val_loss: 0.4231 - val_auc: 0.8206 - val_accuracy: 0.7960\n",
            "Epoch 26/50\n",
            "5376/5376 [==============================] - 30s 6ms/step - loss: 0.4282 - auc: 0.8105 - accuracy: 0.7934 - val_loss: 0.4200 - val_auc: 0.8211 - val_accuracy: 0.7979\n",
            "Epoch 27/50\n",
            "5376/5376 [==============================] - 30s 6ms/step - loss: 0.4282 - auc: 0.8101 - accuracy: 0.7934 - val_loss: 0.4222 - val_auc: 0.8203 - val_accuracy: 0.7947\n",
            "Epoch 28/50\n",
            "5376/5376 [==============================] - 30s 6ms/step - loss: 0.4280 - auc: 0.8103 - accuracy: 0.7941 - val_loss: 0.4179 - val_auc: 0.8208 - val_accuracy: 0.7971\n",
            "Epoch 29/50\n",
            "5376/5376 [==============================] - 30s 6ms/step - loss: 0.4278 - auc: 0.8104 - accuracy: 0.7948 - val_loss: 0.4251 - val_auc: 0.8206 - val_accuracy: 0.7990\n",
            "Epoch 30/50\n",
            "5376/5376 [==============================] - 30s 6ms/step - loss: 0.4277 - auc: 0.8105 - accuracy: 0.7939 - val_loss: 0.4175 - val_auc: 0.8218 - val_accuracy: 0.8049\n",
            "Epoch 31/50\n",
            "5376/5376 [==============================] - 30s 6ms/step - loss: 0.4280 - auc: 0.8103 - accuracy: 0.7937 - val_loss: 0.4189 - val_auc: 0.8211 - val_accuracy: 0.7976\n",
            "Epoch 32/50\n",
            "5376/5376 [==============================] - 30s 6ms/step - loss: 0.4269 - auc: 0.8111 - accuracy: 0.7945 - val_loss: 0.4187 - val_auc: 0.8217 - val_accuracy: 0.8018\n",
            "Epoch 33/50\n",
            "5376/5376 [==============================] - 30s 6ms/step - loss: 0.4247 - auc: 0.8127 - accuracy: 0.7950 - val_loss: 0.4184 - val_auc: 0.8221 - val_accuracy: 0.8045\n",
            "Epoch 34/50\n",
            "5376/5376 [==============================] - 30s 6ms/step - loss: 0.4258 - auc: 0.8116 - accuracy: 0.7946 - val_loss: 0.4293 - val_auc: 0.8174 - val_accuracy: 0.7945\n",
            "Epoch 35/50\n",
            "5376/5376 [==============================] - 30s 6ms/step - loss: 0.4269 - auc: 0.8114 - accuracy: 0.7955 - val_loss: 0.4187 - val_auc: 0.8220 - val_accuracy: 0.8048\n",
            "Epoch 36/50\n",
            "5376/5376 [==============================] - 30s 6ms/step - loss: 0.4269 - auc: 0.8112 - accuracy: 0.7937 - val_loss: 0.4204 - val_auc: 0.8221 - val_accuracy: 0.7984\n",
            "Epoch 37/50\n",
            "5376/5376 [==============================] - 30s 6ms/step - loss: 0.4270 - auc: 0.8112 - accuracy: 0.7943 - val_loss: 0.4195 - val_auc: 0.8221 - val_accuracy: 0.8025\n",
            "Epoch 38/50\n",
            "5376/5376 [==============================] - 30s 6ms/step - loss: 0.4272 - auc: 0.8109 - accuracy: 0.7945 - val_loss: 0.4222 - val_auc: 0.8221 - val_accuracy: 0.8041\n",
            "Epoch 39/50\n",
            "5376/5376 [==============================] - 30s 6ms/step - loss: 0.4267 - auc: 0.8116 - accuracy: 0.7945 - val_loss: 0.4200 - val_auc: 0.8208 - val_accuracy: 0.7972\n",
            "Epoch 40/50\n",
            "5376/5376 [==============================] - 30s 6ms/step - loss: 0.4269 - auc: 0.8116 - accuracy: 0.7952 - val_loss: 0.4228 - val_auc: 0.8211 - val_accuracy: 0.8025\n",
            "Epoch 41/50\n",
            "5376/5376 [==============================] - 30s 6ms/step - loss: 0.4265 - auc: 0.8118 - accuracy: 0.7949 - val_loss: 0.4195 - val_auc: 0.8213 - val_accuracy: 0.8046\n",
            "Epoch 42/50\n",
            "5376/5376 [==============================] - 30s 6ms/step - loss: 0.4260 - auc: 0.8125 - accuracy: 0.7962 - val_loss: 0.4186 - val_auc: 0.8216 - val_accuracy: 0.7986\n",
            "Epoch 43/50\n",
            "5376/5376 [==============================] - 30s 6ms/step - loss: 0.4256 - auc: 0.8126 - accuracy: 0.7962 - val_loss: 0.4354 - val_auc: 0.8188 - val_accuracy: 0.7925\n",
            "Epoch 44/50\n",
            "5376/5376 [==============================] - 30s 6ms/step - loss: 0.4249 - auc: 0.8129 - accuracy: 0.7955 - val_loss: 0.4186 - val_auc: 0.8214 - val_accuracy: 0.8041\n",
            "Epoch 45/50\n",
            "5376/5376 [==============================] - 30s 6ms/step - loss: 0.4262 - auc: 0.8120 - accuracy: 0.7958 - val_loss: 0.4280 - val_auc: 0.8215 - val_accuracy: 0.7999\n",
            "Epoch 46/50\n",
            "5376/5376 [==============================] - 30s 6ms/step - loss: 0.4261 - auc: 0.8122 - accuracy: 0.7967 - val_loss: 0.4255 - val_auc: 0.8219 - val_accuracy: 0.8049\n",
            "Epoch 47/50\n",
            "5376/5376 [==============================] - 30s 6ms/step - loss: 0.4250 - auc: 0.8133 - accuracy: 0.7963 - val_loss: 0.4246 - val_auc: 0.8199 - val_accuracy: 0.7970\n",
            "Epoch 48/50\n",
            "5376/5376 [==============================] - 30s 6ms/step - loss: 0.4252 - auc: 0.8132 - accuracy: 0.7956 - val_loss: 0.4264 - val_auc: 0.8202 - val_accuracy: 0.7970\n",
            "Epoch 49/50\n",
            "5376/5376 [==============================] - 30s 6ms/step - loss: 0.4259 - auc: 0.8128 - accuracy: 0.7963 - val_loss: 0.4245 - val_auc: 0.8195 - val_accuracy: 0.7954\n",
            "Epoch 50/50\n",
            "5376/5376 [==============================] - 30s 6ms/step - loss: 0.4247 - auc: 0.8131 - accuracy: 0.7950 - val_loss: 0.4190 - val_auc: 0.8220 - val_accuracy: 0.8000\n"
          ],
          "name": "stdout"
        }
      ]
    },
    {
      "cell_type": "markdown",
      "metadata": {
        "id": "PT8ts0GVsoKU"
      },
      "source": [
        "**PREDICTION**"
      ]
    },
    {
      "cell_type": "code",
      "metadata": {
        "id": "ahwjMEMMpb9n"
      },
      "source": [
        "test=pd.read_csv('/content/test.csv')"
      ],
      "execution_count": null,
      "outputs": []
    },
    {
      "cell_type": "code",
      "metadata": {
        "id": "y9fClZ2Ipevu",
        "colab": {
          "base_uri": "https://localhost:8080/"
        },
        "outputId": "a3c9c240-1b79-4d18-a72e-5656776270d2"
      },
      "source": [
        "test.shape"
      ],
      "execution_count": null,
      "outputs": [
        {
          "output_type": "execute_result",
          "data": {
            "text/plain": [
              "(105312, 10)"
            ]
          },
          "metadata": {
            "tags": []
          },
          "execution_count": 31
        }
      ]
    },
    {
      "cell_type": "code",
      "metadata": {
        "id": "27cF_uEzpkQ4",
        "colab": {
          "base_uri": "https://localhost:8080/"
        },
        "outputId": "b56ffff4-77bd-4580-89de-e53fabb3c000"
      },
      "source": [
        "test.isnull().sum()"
      ],
      "execution_count": null,
      "outputs": [
        {
          "output_type": "execute_result",
          "data": {
            "text/plain": [
              "ID                         0\n",
              "Gender                     0\n",
              "Age                        0\n",
              "Region_Code                0\n",
              "Occupation                 0\n",
              "Channel_Code               0\n",
              "Vintage                    0\n",
              "Credit_Product         12522\n",
              "Avg_Account_Balance        0\n",
              "Is_Active                  0\n",
              "dtype: int64"
            ]
          },
          "metadata": {
            "tags": []
          },
          "execution_count": 32
        }
      ]
    },
    {
      "cell_type": "code",
      "metadata": {
        "id": "Y3bi8MVspqU-"
      },
      "source": [
        "test.drop('ID',axis=1,inplace=True)"
      ],
      "execution_count": null,
      "outputs": []
    },
    {
      "cell_type": "code",
      "metadata": {
        "id": "NgWRfg8Vp5tA"
      },
      "source": [
        "categorical_var=['Gender', 'Region_Code', 'Occupation', 'Channel_Code','Credit_Product', 'Is_Active']"
      ],
      "execution_count": null,
      "outputs": []
    },
    {
      "cell_type": "code",
      "metadata": {
        "id": "YKEfizeXp90P"
      },
      "source": [
        "for c in categorical_var :\n",
        "  test[c] = pd.get_dummies(test[c])"
      ],
      "execution_count": null,
      "outputs": []
    },
    {
      "cell_type": "code",
      "metadata": {
        "id": "lo9_fnslqgQx"
      },
      "source": [
        " test['Credit_Product'].fillna((test['Credit_Product'].mean()),inplace=True)"
      ],
      "execution_count": null,
      "outputs": []
    },
    {
      "cell_type": "code",
      "metadata": {
        "id": "cP3F7U4tqtvH",
        "colab": {
          "base_uri": "https://localhost:8080/"
        },
        "outputId": "4013c129-c0ae-4715-ff3b-b47a016fdaeb"
      },
      "source": [
        "test.isnull().sum()"
      ],
      "execution_count": null,
      "outputs": [
        {
          "output_type": "execute_result",
          "data": {
            "text/plain": [
              "Gender                 0\n",
              "Age                    0\n",
              "Region_Code            0\n",
              "Occupation             0\n",
              "Channel_Code           0\n",
              "Vintage                0\n",
              "Credit_Product         0\n",
              "Avg_Account_Balance    0\n",
              "Is_Active              0\n",
              "dtype: int64"
            ]
          },
          "metadata": {
            "tags": []
          },
          "execution_count": 37
        }
      ]
    },
    {
      "cell_type": "code",
      "metadata": {
        "id": "gaEZxXIRq3_O",
        "colab": {
          "base_uri": "https://localhost:8080/",
          "height": 202
        },
        "outputId": "6b099020-c8ce-40ac-9231-300e21901d57"
      },
      "source": [
        "test.head()"
      ],
      "execution_count": null,
      "outputs": [
        {
          "output_type": "execute_result",
          "data": {
            "text/html": [
              "<div>\n",
              "<style scoped>\n",
              "    .dataframe tbody tr th:only-of-type {\n",
              "        vertical-align: middle;\n",
              "    }\n",
              "\n",
              "    .dataframe tbody tr th {\n",
              "        vertical-align: top;\n",
              "    }\n",
              "\n",
              "    .dataframe thead th {\n",
              "        text-align: right;\n",
              "    }\n",
              "</style>\n",
              "<table border=\"1\" class=\"dataframe\">\n",
              "  <thead>\n",
              "    <tr style=\"text-align: right;\">\n",
              "      <th></th>\n",
              "      <th>Gender</th>\n",
              "      <th>Age</th>\n",
              "      <th>Region_Code</th>\n",
              "      <th>Occupation</th>\n",
              "      <th>Channel_Code</th>\n",
              "      <th>Vintage</th>\n",
              "      <th>Credit_Product</th>\n",
              "      <th>Avg_Account_Balance</th>\n",
              "      <th>Is_Active</th>\n",
              "    </tr>\n",
              "  </thead>\n",
              "  <tbody>\n",
              "    <tr>\n",
              "      <th>0</th>\n",
              "      <td>0</td>\n",
              "      <td>29</td>\n",
              "      <td>0</td>\n",
              "      <td>0</td>\n",
              "      <td>1</td>\n",
              "      <td>25</td>\n",
              "      <td>0</td>\n",
              "      <td>742366</td>\n",
              "      <td>1</td>\n",
              "    </tr>\n",
              "    <tr>\n",
              "      <th>1</th>\n",
              "      <td>0</td>\n",
              "      <td>43</td>\n",
              "      <td>0</td>\n",
              "      <td>0</td>\n",
              "      <td>0</td>\n",
              "      <td>49</td>\n",
              "      <td>0</td>\n",
              "      <td>925537</td>\n",
              "      <td>1</td>\n",
              "    </tr>\n",
              "    <tr>\n",
              "      <th>2</th>\n",
              "      <td>0</td>\n",
              "      <td>31</td>\n",
              "      <td>0</td>\n",
              "      <td>0</td>\n",
              "      <td>1</td>\n",
              "      <td>14</td>\n",
              "      <td>1</td>\n",
              "      <td>215949</td>\n",
              "      <td>1</td>\n",
              "    </tr>\n",
              "    <tr>\n",
              "      <th>3</th>\n",
              "      <td>0</td>\n",
              "      <td>29</td>\n",
              "      <td>0</td>\n",
              "      <td>0</td>\n",
              "      <td>1</td>\n",
              "      <td>33</td>\n",
              "      <td>1</td>\n",
              "      <td>868070</td>\n",
              "      <td>1</td>\n",
              "    </tr>\n",
              "    <tr>\n",
              "      <th>4</th>\n",
              "      <td>1</td>\n",
              "      <td>29</td>\n",
              "      <td>0</td>\n",
              "      <td>0</td>\n",
              "      <td>1</td>\n",
              "      <td>19</td>\n",
              "      <td>1</td>\n",
              "      <td>657087</td>\n",
              "      <td>1</td>\n",
              "    </tr>\n",
              "  </tbody>\n",
              "</table>\n",
              "</div>"
            ],
            "text/plain": [
              "   Gender  Age  Region_Code  ...  Credit_Product  Avg_Account_Balance  Is_Active\n",
              "0       0   29            0  ...               0               742366          1\n",
              "1       0   43            0  ...               0               925537          1\n",
              "2       0   31            0  ...               1               215949          1\n",
              "3       0   29            0  ...               1               868070          1\n",
              "4       1   29            0  ...               1               657087          1\n",
              "\n",
              "[5 rows x 9 columns]"
            ]
          },
          "metadata": {
            "tags": []
          },
          "execution_count": 38
        }
      ]
    },
    {
      "cell_type": "code",
      "metadata": {
        "id": "B81BBSXzBs6R"
      },
      "source": [
        "test=test.to_numpy()"
      ],
      "execution_count": null,
      "outputs": []
    },
    {
      "cell_type": "code",
      "metadata": {
        "id": "-cRqQt_DB0Ql"
      },
      "source": [
        "test=test.reshape(test.shape[0],test.shape[1],1)\n"
      ],
      "execution_count": null,
      "outputs": []
    },
    {
      "cell_type": "code",
      "metadata": {
        "id": "m7RKRuR5q8gW"
      },
      "source": [
        "y_pred=model.predict(test)\n"
      ],
      "execution_count": null,
      "outputs": []
    },
    {
      "cell_type": "code",
      "metadata": {
        "id": "nVwrgrlmrDdN",
        "colab": {
          "base_uri": "https://localhost:8080/"
        },
        "outputId": "02c25a98-e4b8-4b99-91eb-65c5a89e3ad9"
      },
      "source": [
        "y_pred"
      ],
      "execution_count": null,
      "outputs": [
        {
          "output_type": "execute_result",
          "data": {
            "text/plain": [
              "array([[0.325758  ],\n",
              "       [0.5029721 ],\n",
              "       [0.04785087],\n",
              "       ...,\n",
              "       [0.11910138],\n",
              "       [0.11990245],\n",
              "       [0.04876754]], dtype=float32)"
            ]
          },
          "metadata": {
            "tags": []
          },
          "execution_count": 42
        }
      ]
    },
    {
      "cell_type": "code",
      "metadata": {
        "id": "2G00l-djsUhX"
      },
      "source": [
        "DF=pd.DataFrame(y_pred)"
      ],
      "execution_count": null,
      "outputs": []
    },
    {
      "cell_type": "code",
      "metadata": {
        "id": "gDjLgzOytXJe"
      },
      "source": [
        "DF.to_csv('prediction_CNN2.csv')"
      ],
      "execution_count": null,
      "outputs": []
    }
  ]
}